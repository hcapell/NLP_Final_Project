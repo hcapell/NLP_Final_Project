{
 "cells": [
  {
   "cell_type": "markdown",
   "metadata": {},
   "source": [
    " # NLP FINAL PROJECT <br> Investigating relationships between movie dialogue and movie genre"
   ]
  },
  {
   "cell_type": "markdown",
   "metadata": {},
   "source": [
    " "
   ]
  },
  {
   "cell_type": "markdown",
   "metadata": {},
   "source": [
    "## Data Prep"
   ]
  },
  {
   "cell_type": "code",
   "execution_count": 133,
   "metadata": {},
   "outputs": [],
   "source": [
    "import pandas as pd\n",
    "import numpy as np\n",
    "from nltk.tokenize import RegexpTokenizer\n",
    "from nltk.stem.porter import PorterStemmer\n",
    "from gensim import corpora, models\n",
    "import gensim\n",
    "from collections import Counter\n",
    "from sklearn.naive_bayes import MultinomialNB\n",
    "from stop_words import get_stop_words\n",
    "import re\n",
    "import itertools\n",
    "import seaborn as sns\n",
    "import matplotlib.pyplot as plt\n",
    "import warnings\n",
    "warnings.filterwarnings('ignore')"
   ]
  },
  {
   "cell_type": "code",
   "execution_count": 135,
   "metadata": {},
   "outputs": [],
   "source": [
    "# Read in the data\n",
    "with open(\"data/movie_lines.txt\", 'rb') as f:\n",
    "     lines = [l.decode('utf8', 'ignore') for l in f.readlines()]\n",
    "        \n",
    "with open(\"data/movie_characters_metadata.txt\", 'rb') as f:\n",
    "     characters = [l.decode('utf8', 'ignore') for l in f.readlines()]\n",
    "        \n",
    "with open(\"data/movie_titles_metadata.txt\", 'rb') as f:\n",
    "     movies = [l.decode('utf8', 'ignore') for l in f.readlines()]"
   ]
  },
  {
   "cell_type": "code",
   "execution_count": 136,
   "metadata": {},
   "outputs": [],
   "source": [
    "# Split lines on delimiter\n",
    "lines = [l.split(' +++$+++ ') for l in lines]\n",
    "characters = [l.split(' +++$+++ ') for l in characters]\n",
    "movies = [l.split(' +++$+++ ') for l in movies]"
   ]
  },
  {
   "cell_type": "code",
   "execution_count": 137,
   "metadata": {},
   "outputs": [],
   "source": [
    "# Create dataframe for lines data\n",
    "lines_df = pd.DataFrame(lines)\n",
    "lines_df.columns = ['line_ID', 'character_ID', 'movie_ID', 'character_name', 'line_text']"
   ]
  },
  {
   "cell_type": "code",
   "execution_count": 138,
   "metadata": {},
   "outputs": [],
   "source": [
    "# Strip newline from line_text\n",
    "lines_df['line_text'] = lines_df['line_text'].apply(lambda x: x.strip())"
   ]
  },
  {
   "cell_type": "code",
   "execution_count": 139,
   "metadata": {},
   "outputs": [
    {
     "data": {
      "text/html": [
       "<div>\n",
       "<style scoped>\n",
       "    .dataframe tbody tr th:only-of-type {\n",
       "        vertical-align: middle;\n",
       "    }\n",
       "\n",
       "    .dataframe tbody tr th {\n",
       "        vertical-align: top;\n",
       "    }\n",
       "\n",
       "    .dataframe thead th {\n",
       "        text-align: right;\n",
       "    }\n",
       "</style>\n",
       "<table border=\"1\" class=\"dataframe\">\n",
       "  <thead>\n",
       "    <tr style=\"text-align: right;\">\n",
       "      <th></th>\n",
       "      <th>line_ID</th>\n",
       "      <th>character_ID</th>\n",
       "      <th>movie_ID</th>\n",
       "      <th>character_name</th>\n",
       "      <th>line_text</th>\n",
       "    </tr>\n",
       "  </thead>\n",
       "  <tbody>\n",
       "    <tr>\n",
       "      <th>0</th>\n",
       "      <td>L1045</td>\n",
       "      <td>u0</td>\n",
       "      <td>m0</td>\n",
       "      <td>BIANCA</td>\n",
       "      <td>They do not!</td>\n",
       "    </tr>\n",
       "    <tr>\n",
       "      <th>1</th>\n",
       "      <td>L1044</td>\n",
       "      <td>u2</td>\n",
       "      <td>m0</td>\n",
       "      <td>CAMERON</td>\n",
       "      <td>They do to!</td>\n",
       "    </tr>\n",
       "    <tr>\n",
       "      <th>2</th>\n",
       "      <td>L985</td>\n",
       "      <td>u0</td>\n",
       "      <td>m0</td>\n",
       "      <td>BIANCA</td>\n",
       "      <td>I hope so.</td>\n",
       "    </tr>\n",
       "    <tr>\n",
       "      <th>3</th>\n",
       "      <td>L984</td>\n",
       "      <td>u2</td>\n",
       "      <td>m0</td>\n",
       "      <td>CAMERON</td>\n",
       "      <td>She okay?</td>\n",
       "    </tr>\n",
       "    <tr>\n",
       "      <th>4</th>\n",
       "      <td>L925</td>\n",
       "      <td>u0</td>\n",
       "      <td>m0</td>\n",
       "      <td>BIANCA</td>\n",
       "      <td>Let's go.</td>\n",
       "    </tr>\n",
       "  </tbody>\n",
       "</table>\n",
       "</div>"
      ],
      "text/plain": [
       "  line_ID character_ID movie_ID character_name     line_text\n",
       "0   L1045           u0       m0         BIANCA  They do not!\n",
       "1   L1044           u2       m0        CAMERON   They do to!\n",
       "2    L985           u0       m0         BIANCA    I hope so.\n",
       "3    L984           u2       m0        CAMERON     She okay?\n",
       "4    L925           u0       m0         BIANCA     Let's go."
      ]
     },
     "execution_count": 139,
     "metadata": {},
     "output_type": "execute_result"
    }
   ],
   "source": [
    "lines_df.head()"
   ]
  },
  {
   "cell_type": "code",
   "execution_count": 63,
   "metadata": {},
   "outputs": [],
   "source": [
    "# Create dataframe for character data\n",
    "char_df = pd.DataFrame(characters)\n",
    "char_df.columns = ['character_ID', 'character_name', 'movie_ID', 'movie_title', 'gender', 'credit_pos']"
   ]
  },
  {
   "cell_type": "code",
   "execution_count": 64,
   "metadata": {},
   "outputs": [
    {
     "data": {
      "text/html": [
       "<div>\n",
       "<style scoped>\n",
       "    .dataframe tbody tr th:only-of-type {\n",
       "        vertical-align: middle;\n",
       "    }\n",
       "\n",
       "    .dataframe tbody tr th {\n",
       "        vertical-align: top;\n",
       "    }\n",
       "\n",
       "    .dataframe thead th {\n",
       "        text-align: right;\n",
       "    }\n",
       "</style>\n",
       "<table border=\"1\" class=\"dataframe\">\n",
       "  <thead>\n",
       "    <tr style=\"text-align: right;\">\n",
       "      <th></th>\n",
       "      <th>character_ID</th>\n",
       "      <th>character_name</th>\n",
       "      <th>movie_ID</th>\n",
       "      <th>movie_title</th>\n",
       "      <th>gender</th>\n",
       "      <th>credit_pos</th>\n",
       "    </tr>\n",
       "  </thead>\n",
       "  <tbody>\n",
       "    <tr>\n",
       "      <th>0</th>\n",
       "      <td>u0</td>\n",
       "      <td>BIANCA</td>\n",
       "      <td>m0</td>\n",
       "      <td>10 things i hate about you</td>\n",
       "      <td>f</td>\n",
       "      <td>4\\n</td>\n",
       "    </tr>\n",
       "    <tr>\n",
       "      <th>1</th>\n",
       "      <td>u1</td>\n",
       "      <td>BRUCE</td>\n",
       "      <td>m0</td>\n",
       "      <td>10 things i hate about you</td>\n",
       "      <td>?</td>\n",
       "      <td>?\\n</td>\n",
       "    </tr>\n",
       "    <tr>\n",
       "      <th>2</th>\n",
       "      <td>u2</td>\n",
       "      <td>CAMERON</td>\n",
       "      <td>m0</td>\n",
       "      <td>10 things i hate about you</td>\n",
       "      <td>m</td>\n",
       "      <td>3\\n</td>\n",
       "    </tr>\n",
       "    <tr>\n",
       "      <th>3</th>\n",
       "      <td>u3</td>\n",
       "      <td>CHASTITY</td>\n",
       "      <td>m0</td>\n",
       "      <td>10 things i hate about you</td>\n",
       "      <td>?</td>\n",
       "      <td>?\\n</td>\n",
       "    </tr>\n",
       "    <tr>\n",
       "      <th>4</th>\n",
       "      <td>u4</td>\n",
       "      <td>JOEY</td>\n",
       "      <td>m0</td>\n",
       "      <td>10 things i hate about you</td>\n",
       "      <td>m</td>\n",
       "      <td>6\\n</td>\n",
       "    </tr>\n",
       "  </tbody>\n",
       "</table>\n",
       "</div>"
      ],
      "text/plain": [
       "  character_ID character_name movie_ID                 movie_title gender  \\\n",
       "0           u0         BIANCA       m0  10 things i hate about you      f   \n",
       "1           u1          BRUCE       m0  10 things i hate about you      ?   \n",
       "2           u2        CAMERON       m0  10 things i hate about you      m   \n",
       "3           u3       CHASTITY       m0  10 things i hate about you      ?   \n",
       "4           u4           JOEY       m0  10 things i hate about you      m   \n",
       "\n",
       "  credit_pos  \n",
       "0        4\\n  \n",
       "1        ?\\n  \n",
       "2        3\\n  \n",
       "3        ?\\n  \n",
       "4        6\\n  "
      ]
     },
     "execution_count": 64,
     "metadata": {},
     "output_type": "execute_result"
    }
   ],
   "source": [
    "char_df.head()"
   ]
  },
  {
   "cell_type": "code",
   "execution_count": 65,
   "metadata": {},
   "outputs": [],
   "source": [
    "movies_df = pd.DataFrame(movies)\n",
    "movies_df.columns = ['movie_ID', 'movie_title', 'year', 'rating', 'num_votes', 'genre']"
   ]
  },
  {
   "cell_type": "code",
   "execution_count": 66,
   "metadata": {},
   "outputs": [
    {
     "data": {
      "text/html": [
       "<div>\n",
       "<style scoped>\n",
       "    .dataframe tbody tr th:only-of-type {\n",
       "        vertical-align: middle;\n",
       "    }\n",
       "\n",
       "    .dataframe tbody tr th {\n",
       "        vertical-align: top;\n",
       "    }\n",
       "\n",
       "    .dataframe thead th {\n",
       "        text-align: right;\n",
       "    }\n",
       "</style>\n",
       "<table border=\"1\" class=\"dataframe\">\n",
       "  <thead>\n",
       "    <tr style=\"text-align: right;\">\n",
       "      <th></th>\n",
       "      <th>movie_ID</th>\n",
       "      <th>movie_title</th>\n",
       "      <th>year</th>\n",
       "      <th>rating</th>\n",
       "      <th>num_votes</th>\n",
       "      <th>genre</th>\n",
       "    </tr>\n",
       "  </thead>\n",
       "  <tbody>\n",
       "    <tr>\n",
       "      <th>0</th>\n",
       "      <td>m0</td>\n",
       "      <td>10 things i hate about you</td>\n",
       "      <td>1999</td>\n",
       "      <td>6.90</td>\n",
       "      <td>62847</td>\n",
       "      <td>['comedy', 'romance']\\n</td>\n",
       "    </tr>\n",
       "    <tr>\n",
       "      <th>1</th>\n",
       "      <td>m1</td>\n",
       "      <td>1492: conquest of paradise</td>\n",
       "      <td>1992</td>\n",
       "      <td>6.20</td>\n",
       "      <td>10421</td>\n",
       "      <td>['adventure', 'biography', 'drama', 'history']\\n</td>\n",
       "    </tr>\n",
       "    <tr>\n",
       "      <th>2</th>\n",
       "      <td>m2</td>\n",
       "      <td>15 minutes</td>\n",
       "      <td>2001</td>\n",
       "      <td>6.10</td>\n",
       "      <td>25854</td>\n",
       "      <td>['action', 'crime', 'drama', 'thriller']\\n</td>\n",
       "    </tr>\n",
       "    <tr>\n",
       "      <th>3</th>\n",
       "      <td>m3</td>\n",
       "      <td>2001: a space odyssey</td>\n",
       "      <td>1968</td>\n",
       "      <td>8.40</td>\n",
       "      <td>163227</td>\n",
       "      <td>['adventure', 'mystery', 'sci-fi']\\n</td>\n",
       "    </tr>\n",
       "    <tr>\n",
       "      <th>4</th>\n",
       "      <td>m4</td>\n",
       "      <td>48 hrs.</td>\n",
       "      <td>1982</td>\n",
       "      <td>6.90</td>\n",
       "      <td>22289</td>\n",
       "      <td>['action', 'comedy', 'crime', 'drama', 'thrill...</td>\n",
       "    </tr>\n",
       "  </tbody>\n",
       "</table>\n",
       "</div>"
      ],
      "text/plain": [
       "  movie_ID                 movie_title  year rating num_votes  \\\n",
       "0       m0  10 things i hate about you  1999   6.90     62847   \n",
       "1       m1  1492: conquest of paradise  1992   6.20     10421   \n",
       "2       m2                  15 minutes  2001   6.10     25854   \n",
       "3       m3       2001: a space odyssey  1968   8.40    163227   \n",
       "4       m4                     48 hrs.  1982   6.90     22289   \n",
       "\n",
       "                                               genre  \n",
       "0                            ['comedy', 'romance']\\n  \n",
       "1   ['adventure', 'biography', 'drama', 'history']\\n  \n",
       "2         ['action', 'crime', 'drama', 'thriller']\\n  \n",
       "3               ['adventure', 'mystery', 'sci-fi']\\n  \n",
       "4  ['action', 'comedy', 'crime', 'drama', 'thrill...  "
      ]
     },
     "execution_count": 66,
     "metadata": {},
     "output_type": "execute_result"
    }
   ],
   "source": [
    "movies_df.head()"
   ]
  },
  {
   "cell_type": "code",
   "execution_count": 67,
   "metadata": {},
   "outputs": [],
   "source": [
    "# Strip newline, brackets, and quotations from genre\n",
    "movies_df['genre'] = movies_df['genre'].apply(lambda x: x.strip())\n",
    "movies_df['genre'] = movies_df['genre'].apply(lambda x: x.strip('['))\n",
    "movies_df['genre'] = movies_df['genre'].apply(lambda x: x.strip(']'))\n",
    "movies_df['genre'] = movies_df['genre'].apply(lambda x: re.sub(\"[']\", '', x))"
   ]
  },
  {
   "cell_type": "code",
   "execution_count": 68,
   "metadata": {},
   "outputs": [],
   "source": [
    "# Turn genre column into a list\n",
    "movies_df['genre'] = movies_df['genre'].apply(lambda x: x.split(','))\n",
    "movies_df['genre'] = movies_df['genre'].apply(lambda x: [y.strip() for y in x])"
   ]
  },
  {
   "cell_type": "code",
   "execution_count": 69,
   "metadata": {},
   "outputs": [
    {
     "data": {
      "text/html": [
       "<div>\n",
       "<style scoped>\n",
       "    .dataframe tbody tr th:only-of-type {\n",
       "        vertical-align: middle;\n",
       "    }\n",
       "\n",
       "    .dataframe tbody tr th {\n",
       "        vertical-align: top;\n",
       "    }\n",
       "\n",
       "    .dataframe thead th {\n",
       "        text-align: right;\n",
       "    }\n",
       "</style>\n",
       "<table border=\"1\" class=\"dataframe\">\n",
       "  <thead>\n",
       "    <tr style=\"text-align: right;\">\n",
       "      <th></th>\n",
       "      <th>movie_ID</th>\n",
       "      <th>movie_title</th>\n",
       "      <th>year</th>\n",
       "      <th>rating</th>\n",
       "      <th>num_votes</th>\n",
       "      <th>genre</th>\n",
       "    </tr>\n",
       "  </thead>\n",
       "  <tbody>\n",
       "    <tr>\n",
       "      <th>0</th>\n",
       "      <td>m0</td>\n",
       "      <td>10 things i hate about you</td>\n",
       "      <td>1999</td>\n",
       "      <td>6.90</td>\n",
       "      <td>62847</td>\n",
       "      <td>[comedy, romance]</td>\n",
       "    </tr>\n",
       "    <tr>\n",
       "      <th>1</th>\n",
       "      <td>m1</td>\n",
       "      <td>1492: conquest of paradise</td>\n",
       "      <td>1992</td>\n",
       "      <td>6.20</td>\n",
       "      <td>10421</td>\n",
       "      <td>[adventure, biography, drama, history]</td>\n",
       "    </tr>\n",
       "    <tr>\n",
       "      <th>2</th>\n",
       "      <td>m2</td>\n",
       "      <td>15 minutes</td>\n",
       "      <td>2001</td>\n",
       "      <td>6.10</td>\n",
       "      <td>25854</td>\n",
       "      <td>[action, crime, drama, thriller]</td>\n",
       "    </tr>\n",
       "    <tr>\n",
       "      <th>3</th>\n",
       "      <td>m3</td>\n",
       "      <td>2001: a space odyssey</td>\n",
       "      <td>1968</td>\n",
       "      <td>8.40</td>\n",
       "      <td>163227</td>\n",
       "      <td>[adventure, mystery, sci-fi]</td>\n",
       "    </tr>\n",
       "    <tr>\n",
       "      <th>4</th>\n",
       "      <td>m4</td>\n",
       "      <td>48 hrs.</td>\n",
       "      <td>1982</td>\n",
       "      <td>6.90</td>\n",
       "      <td>22289</td>\n",
       "      <td>[action, comedy, crime, drama, thriller]</td>\n",
       "    </tr>\n",
       "  </tbody>\n",
       "</table>\n",
       "</div>"
      ],
      "text/plain": [
       "  movie_ID                 movie_title  year rating num_votes  \\\n",
       "0       m0  10 things i hate about you  1999   6.90     62847   \n",
       "1       m1  1492: conquest of paradise  1992   6.20     10421   \n",
       "2       m2                  15 minutes  2001   6.10     25854   \n",
       "3       m3       2001: a space odyssey  1968   8.40    163227   \n",
       "4       m4                     48 hrs.  1982   6.90     22289   \n",
       "\n",
       "                                      genre  \n",
       "0                         [comedy, romance]  \n",
       "1    [adventure, biography, drama, history]  \n",
       "2          [action, crime, drama, thriller]  \n",
       "3              [adventure, mystery, sci-fi]  \n",
       "4  [action, comedy, crime, drama, thriller]  "
      ]
     },
     "execution_count": 69,
     "metadata": {},
     "output_type": "execute_result"
    }
   ],
   "source": [
    "movies_df.head()"
   ]
  },
  {
   "cell_type": "code",
   "execution_count": 70,
   "metadata": {},
   "outputs": [],
   "source": [
    "# Join lines and characters dataframes\n",
    "data = pd.merge(lines_df, char_df, how = 'left', on = ['movie_ID', 'character_ID'])\n",
    "data = data.drop(['character_name_y'], axis = 1)\n",
    "data = data.rename(index=str, columns={\"character_name_x\": \"character_name\"})"
   ]
  },
  {
   "cell_type": "code",
   "execution_count": 71,
   "metadata": {},
   "outputs": [],
   "source": [
    "# Join movies data frame with merged dataframe\n",
    "data = pd.merge(data, movies_df, how = 'left', on = 'movie_ID')\n",
    "data = data.drop(['movie_title_y'], axis = 1)\n",
    "data = data.rename(index=str, columns={\"movie_title_x\": \"movie_title\"})"
   ]
  },
  {
   "cell_type": "code",
   "execution_count": 72,
   "metadata": {},
   "outputs": [
    {
     "data": {
      "text/html": [
       "<div>\n",
       "<style scoped>\n",
       "    .dataframe tbody tr th:only-of-type {\n",
       "        vertical-align: middle;\n",
       "    }\n",
       "\n",
       "    .dataframe tbody tr th {\n",
       "        vertical-align: top;\n",
       "    }\n",
       "\n",
       "    .dataframe thead th {\n",
       "        text-align: right;\n",
       "    }\n",
       "</style>\n",
       "<table border=\"1\" class=\"dataframe\">\n",
       "  <thead>\n",
       "    <tr style=\"text-align: right;\">\n",
       "      <th></th>\n",
       "      <th>line_ID</th>\n",
       "      <th>character_ID</th>\n",
       "      <th>movie_ID</th>\n",
       "      <th>character_name</th>\n",
       "      <th>line_text</th>\n",
       "      <th>movie_title</th>\n",
       "      <th>gender</th>\n",
       "      <th>credit_pos</th>\n",
       "      <th>year</th>\n",
       "      <th>rating</th>\n",
       "      <th>num_votes</th>\n",
       "      <th>genre</th>\n",
       "    </tr>\n",
       "  </thead>\n",
       "  <tbody>\n",
       "    <tr>\n",
       "      <th>0</th>\n",
       "      <td>L1045</td>\n",
       "      <td>u0</td>\n",
       "      <td>m0</td>\n",
       "      <td>BIANCA</td>\n",
       "      <td>They do not!</td>\n",
       "      <td>10 things i hate about you</td>\n",
       "      <td>f</td>\n",
       "      <td>4\\n</td>\n",
       "      <td>1999</td>\n",
       "      <td>6.90</td>\n",
       "      <td>62847</td>\n",
       "      <td>[comedy, romance]</td>\n",
       "    </tr>\n",
       "    <tr>\n",
       "      <th>1</th>\n",
       "      <td>L1044</td>\n",
       "      <td>u2</td>\n",
       "      <td>m0</td>\n",
       "      <td>CAMERON</td>\n",
       "      <td>They do to!</td>\n",
       "      <td>10 things i hate about you</td>\n",
       "      <td>m</td>\n",
       "      <td>3\\n</td>\n",
       "      <td>1999</td>\n",
       "      <td>6.90</td>\n",
       "      <td>62847</td>\n",
       "      <td>[comedy, romance]</td>\n",
       "    </tr>\n",
       "    <tr>\n",
       "      <th>2</th>\n",
       "      <td>L985</td>\n",
       "      <td>u0</td>\n",
       "      <td>m0</td>\n",
       "      <td>BIANCA</td>\n",
       "      <td>I hope so.</td>\n",
       "      <td>10 things i hate about you</td>\n",
       "      <td>f</td>\n",
       "      <td>4\\n</td>\n",
       "      <td>1999</td>\n",
       "      <td>6.90</td>\n",
       "      <td>62847</td>\n",
       "      <td>[comedy, romance]</td>\n",
       "    </tr>\n",
       "    <tr>\n",
       "      <th>3</th>\n",
       "      <td>L984</td>\n",
       "      <td>u2</td>\n",
       "      <td>m0</td>\n",
       "      <td>CAMERON</td>\n",
       "      <td>She okay?</td>\n",
       "      <td>10 things i hate about you</td>\n",
       "      <td>m</td>\n",
       "      <td>3\\n</td>\n",
       "      <td>1999</td>\n",
       "      <td>6.90</td>\n",
       "      <td>62847</td>\n",
       "      <td>[comedy, romance]</td>\n",
       "    </tr>\n",
       "    <tr>\n",
       "      <th>4</th>\n",
       "      <td>L925</td>\n",
       "      <td>u0</td>\n",
       "      <td>m0</td>\n",
       "      <td>BIANCA</td>\n",
       "      <td>Let's go.</td>\n",
       "      <td>10 things i hate about you</td>\n",
       "      <td>f</td>\n",
       "      <td>4\\n</td>\n",
       "      <td>1999</td>\n",
       "      <td>6.90</td>\n",
       "      <td>62847</td>\n",
       "      <td>[comedy, romance]</td>\n",
       "    </tr>\n",
       "  </tbody>\n",
       "</table>\n",
       "</div>"
      ],
      "text/plain": [
       "  line_ID character_ID movie_ID character_name     line_text  \\\n",
       "0   L1045           u0       m0         BIANCA  They do not!   \n",
       "1   L1044           u2       m0        CAMERON   They do to!   \n",
       "2    L985           u0       m0         BIANCA    I hope so.   \n",
       "3    L984           u2       m0        CAMERON     She okay?   \n",
       "4    L925           u0       m0         BIANCA     Let's go.   \n",
       "\n",
       "                  movie_title gender credit_pos  year rating num_votes  \\\n",
       "0  10 things i hate about you      f        4\\n  1999   6.90     62847   \n",
       "1  10 things i hate about you      m        3\\n  1999   6.90     62847   \n",
       "2  10 things i hate about you      f        4\\n  1999   6.90     62847   \n",
       "3  10 things i hate about you      m        3\\n  1999   6.90     62847   \n",
       "4  10 things i hate about you      f        4\\n  1999   6.90     62847   \n",
       "\n",
       "               genre  \n",
       "0  [comedy, romance]  \n",
       "1  [comedy, romance]  \n",
       "2  [comedy, romance]  \n",
       "3  [comedy, romance]  \n",
       "4  [comedy, romance]  "
      ]
     },
     "execution_count": 72,
     "metadata": {},
     "output_type": "execute_result"
    }
   ],
   "source": [
    "data.head()"
   ]
  },
  {
   "cell_type": "code",
   "execution_count": 73,
   "metadata": {},
   "outputs": [],
   "source": [
    "# Create one-hot encoding of genre\n",
    "from sklearn.preprocessing import MultiLabelBinarizer\n",
    "\n",
    "mlb = MultiLabelBinarizer()\n",
    "data = data.join(pd.DataFrame(mlb.fit_transform(data.pop('genre')),\n",
    "                          columns=mlb.classes_,\n",
    "                          index=data.index))"
   ]
  },
  {
   "cell_type": "code",
   "execution_count": 74,
   "metadata": {},
   "outputs": [
    {
     "data": {
      "text/html": [
       "<div>\n",
       "<style scoped>\n",
       "    .dataframe tbody tr th:only-of-type {\n",
       "        vertical-align: middle;\n",
       "    }\n",
       "\n",
       "    .dataframe tbody tr th {\n",
       "        vertical-align: top;\n",
       "    }\n",
       "\n",
       "    .dataframe thead th {\n",
       "        text-align: right;\n",
       "    }\n",
       "</style>\n",
       "<table border=\"1\" class=\"dataframe\">\n",
       "  <thead>\n",
       "    <tr style=\"text-align: right;\">\n",
       "      <th></th>\n",
       "      <th>line_ID</th>\n",
       "      <th>character_ID</th>\n",
       "      <th>movie_ID</th>\n",
       "      <th>character_name</th>\n",
       "      <th>line_text</th>\n",
       "      <th>movie_title</th>\n",
       "      <th>gender</th>\n",
       "      <th>credit_pos</th>\n",
       "      <th>year</th>\n",
       "      <th>rating</th>\n",
       "      <th>...</th>\n",
       "      <th>music</th>\n",
       "      <th>musical</th>\n",
       "      <th>mystery</th>\n",
       "      <th>romance</th>\n",
       "      <th>sci-fi</th>\n",
       "      <th>short</th>\n",
       "      <th>sport</th>\n",
       "      <th>thriller</th>\n",
       "      <th>war</th>\n",
       "      <th>western</th>\n",
       "    </tr>\n",
       "  </thead>\n",
       "  <tbody>\n",
       "    <tr>\n",
       "      <th>0</th>\n",
       "      <td>L1045</td>\n",
       "      <td>u0</td>\n",
       "      <td>m0</td>\n",
       "      <td>BIANCA</td>\n",
       "      <td>They do not!</td>\n",
       "      <td>10 things i hate about you</td>\n",
       "      <td>f</td>\n",
       "      <td>4\\n</td>\n",
       "      <td>1999</td>\n",
       "      <td>6.90</td>\n",
       "      <td>...</td>\n",
       "      <td>0</td>\n",
       "      <td>0</td>\n",
       "      <td>0</td>\n",
       "      <td>1</td>\n",
       "      <td>0</td>\n",
       "      <td>0</td>\n",
       "      <td>0</td>\n",
       "      <td>0</td>\n",
       "      <td>0</td>\n",
       "      <td>0</td>\n",
       "    </tr>\n",
       "    <tr>\n",
       "      <th>1</th>\n",
       "      <td>L1044</td>\n",
       "      <td>u2</td>\n",
       "      <td>m0</td>\n",
       "      <td>CAMERON</td>\n",
       "      <td>They do to!</td>\n",
       "      <td>10 things i hate about you</td>\n",
       "      <td>m</td>\n",
       "      <td>3\\n</td>\n",
       "      <td>1999</td>\n",
       "      <td>6.90</td>\n",
       "      <td>...</td>\n",
       "      <td>0</td>\n",
       "      <td>0</td>\n",
       "      <td>0</td>\n",
       "      <td>1</td>\n",
       "      <td>0</td>\n",
       "      <td>0</td>\n",
       "      <td>0</td>\n",
       "      <td>0</td>\n",
       "      <td>0</td>\n",
       "      <td>0</td>\n",
       "    </tr>\n",
       "    <tr>\n",
       "      <th>2</th>\n",
       "      <td>L985</td>\n",
       "      <td>u0</td>\n",
       "      <td>m0</td>\n",
       "      <td>BIANCA</td>\n",
       "      <td>I hope so.</td>\n",
       "      <td>10 things i hate about you</td>\n",
       "      <td>f</td>\n",
       "      <td>4\\n</td>\n",
       "      <td>1999</td>\n",
       "      <td>6.90</td>\n",
       "      <td>...</td>\n",
       "      <td>0</td>\n",
       "      <td>0</td>\n",
       "      <td>0</td>\n",
       "      <td>1</td>\n",
       "      <td>0</td>\n",
       "      <td>0</td>\n",
       "      <td>0</td>\n",
       "      <td>0</td>\n",
       "      <td>0</td>\n",
       "      <td>0</td>\n",
       "    </tr>\n",
       "    <tr>\n",
       "      <th>3</th>\n",
       "      <td>L984</td>\n",
       "      <td>u2</td>\n",
       "      <td>m0</td>\n",
       "      <td>CAMERON</td>\n",
       "      <td>She okay?</td>\n",
       "      <td>10 things i hate about you</td>\n",
       "      <td>m</td>\n",
       "      <td>3\\n</td>\n",
       "      <td>1999</td>\n",
       "      <td>6.90</td>\n",
       "      <td>...</td>\n",
       "      <td>0</td>\n",
       "      <td>0</td>\n",
       "      <td>0</td>\n",
       "      <td>1</td>\n",
       "      <td>0</td>\n",
       "      <td>0</td>\n",
       "      <td>0</td>\n",
       "      <td>0</td>\n",
       "      <td>0</td>\n",
       "      <td>0</td>\n",
       "    </tr>\n",
       "    <tr>\n",
       "      <th>4</th>\n",
       "      <td>L925</td>\n",
       "      <td>u0</td>\n",
       "      <td>m0</td>\n",
       "      <td>BIANCA</td>\n",
       "      <td>Let's go.</td>\n",
       "      <td>10 things i hate about you</td>\n",
       "      <td>f</td>\n",
       "      <td>4\\n</td>\n",
       "      <td>1999</td>\n",
       "      <td>6.90</td>\n",
       "      <td>...</td>\n",
       "      <td>0</td>\n",
       "      <td>0</td>\n",
       "      <td>0</td>\n",
       "      <td>1</td>\n",
       "      <td>0</td>\n",
       "      <td>0</td>\n",
       "      <td>0</td>\n",
       "      <td>0</td>\n",
       "      <td>0</td>\n",
       "      <td>0</td>\n",
       "    </tr>\n",
       "  </tbody>\n",
       "</table>\n",
       "<p>5 rows × 36 columns</p>\n",
       "</div>"
      ],
      "text/plain": [
       "  line_ID character_ID movie_ID character_name     line_text  \\\n",
       "0   L1045           u0       m0         BIANCA  They do not!   \n",
       "1   L1044           u2       m0        CAMERON   They do to!   \n",
       "2    L985           u0       m0         BIANCA    I hope so.   \n",
       "3    L984           u2       m0        CAMERON     She okay?   \n",
       "4    L925           u0       m0         BIANCA     Let's go.   \n",
       "\n",
       "                  movie_title gender credit_pos  year rating   ...    music  \\\n",
       "0  10 things i hate about you      f        4\\n  1999   6.90   ...        0   \n",
       "1  10 things i hate about you      m        3\\n  1999   6.90   ...        0   \n",
       "2  10 things i hate about you      f        4\\n  1999   6.90   ...        0   \n",
       "3  10 things i hate about you      m        3\\n  1999   6.90   ...        0   \n",
       "4  10 things i hate about you      f        4\\n  1999   6.90   ...        0   \n",
       "\n",
       "   musical  mystery  romance  sci-fi  short  sport  thriller  war  western  \n",
       "0        0        0        1       0      0      0         0    0        0  \n",
       "1        0        0        1       0      0      0         0    0        0  \n",
       "2        0        0        1       0      0      0         0    0        0  \n",
       "3        0        0        1       0      0      0         0    0        0  \n",
       "4        0        0        1       0      0      0         0    0        0  \n",
       "\n",
       "[5 rows x 36 columns]"
      ]
     },
     "execution_count": 74,
     "metadata": {},
     "output_type": "execute_result"
    }
   ],
   "source": [
    "data.head()"
   ]
  },
  {
   "cell_type": "markdown",
   "metadata": {},
   "source": [
    "## EDA"
   ]
  },
  {
   "cell_type": "code",
   "execution_count": 75,
   "metadata": {},
   "outputs": [],
   "source": [
    "# Separate out genres to investigate \n",
    "horror = data.loc[data['horror'] == 1]\n",
    "adult = data.loc[data['adult'] == 1]"
   ]
  },
  {
   "cell_type": "code",
   "execution_count": 76,
   "metadata": {},
   "outputs": [],
   "source": [
    "# Create corpus for each genre\n",
    "horror_lines = list(horror.line_text)\n",
    "horror_corpus = [line.split() for line in horror_lines]\n",
    "horror_corpus = list(itertools.chain.from_iterable(horror_corpus))\n",
    "horror_corpus = [re.sub(\"[.?!,-]\", '', word) for word in horror_corpus]\n",
    "\n",
    "adult_lines = list(adult.line_text)\n",
    "adult_corpus = [line.split() for line in adult_lines]\n",
    "adult_corpus = list(itertools.chain.from_iterable(adult_corpus))\n",
    "adult_corpus = [re.sub(\"[.?!,-]\", '', word) for word in adult_corpus]"
   ]
  },
  {
   "cell_type": "code",
   "execution_count": 77,
   "metadata": {},
   "outputs": [],
   "source": [
    "# Define a function to split contractions\n",
    "def split_contractions(word):\n",
    "    word = re.sub(r\"won't\", \"will not\", word)\n",
    "    word = re.sub(r\"can\\'t\", \"can not\", word)\n",
    "    word = re.sub(r\"n\\'t\", \" not\", word)\n",
    "    word = re.sub(r\"\\'re\", \" are\", word)\n",
    "    word = re.sub(r\"\\'s\", \" is\", word)\n",
    "    word = re.sub(r\"\\'d\", \" would\", word)\n",
    "    word = re.sub(r\"\\'ll\", \" will\", word)\n",
    "    word = re.sub(r\"\\'t\", \" not\", word)\n",
    "    word = re.sub(r\"\\'ve\", \" have\", word)\n",
    "    word = re.sub(r\"\\'m\", \" am\", word)\n",
    "    return word"
   ]
  },
  {
   "cell_type": "code",
   "execution_count": 78,
   "metadata": {},
   "outputs": [],
   "source": [
    "# Apply split contractions function to each corpus and reformat corpus into proper bag-of-words format\n",
    "horror_corpus = [split_contractions(word) for word in horror_corpus]\n",
    "horror_corpus = [line.split(\" \") for line in horror_corpus]\n",
    "horror_corpus = list(itertools.chain.from_iterable(horror_corpus))\n",
    "\n",
    "adult_corpus = [split_contractions(word) for word in adult_corpus]\n",
    "adult_corpus = [line.split(\" \") for line in adult_corpus]\n",
    "adult_corpus = list(itertools.chain.from_iterable(adult_corpus))"
   ]
  },
  {
   "cell_type": "code",
   "execution_count": 79,
   "metadata": {},
   "outputs": [],
   "source": [
    "# Make all words lowercase\n",
    "horror_corpus = [word.lower() for word in horror_corpus]\n",
    "adult_corpus = [word.lower() for word in adult_corpus]"
   ]
  },
  {
   "cell_type": "code",
   "execution_count": 80,
   "metadata": {},
   "outputs": [],
   "source": [
    "# Remove stop words from each corpus\n",
    "en_stop = get_stop_words('en')\n",
    "horror_corpus = [word for word in horror_corpus if not word in en_stop]\n",
    "adult_corpus = [word for word in adult_corpus if not word in en_stop]"
   ]
  },
  {
   "cell_type": "code",
   "execution_count": 81,
   "metadata": {},
   "outputs": [],
   "source": [
    "# Get word counts for words in each corpus\n",
    "from collections import Counter\n",
    "horror_word_count = Counter(horror_corpus)\n",
    "adult_word_count = Counter(adult_corpus)"
   ]
  },
  {
   "cell_type": "code",
   "execution_count": 82,
   "metadata": {},
   "outputs": [],
   "source": [
    "# Delete empty string key from dictionaries\n",
    "del horror_word_count[\"\"]\n",
    "del adult_word_count[\"\"]"
   ]
  },
  {
   "cell_type": "code",
   "execution_count": 83,
   "metadata": {},
   "outputs": [],
   "source": [
    "# Sort the word count dictionaries\n",
    "import operator\n",
    "horror_word_counts_sorted = sorted(horror_word_count.items(), key=operator.itemgetter(1), reverse = True)\n",
    "adult_word_counts_sorted = sorted(adult_word_count.items(), key=operator.itemgetter(1), reverse = True)"
   ]
  },
  {
   "cell_type": "code",
   "execution_count": 84,
   "metadata": {},
   "outputs": [
    {
     "data": {
      "image/png": "[encoded data removed]",
      "text/plain": [
       "<Figure size 1440x576 with 1 Axes>"
      ]
     },
     "metadata": {},
     "output_type": "display_data"
    }
   ],
   "source": [
    "# Plot most frequent words\n",
    "sample = horror_word_counts_sorted[:15]\n",
    "labels, values = zip(*sample)\n",
    "plt.figure(figsize=(20,8))\n",
    "plt.bar(labels, values, align='center', color = 'black')\n",
    "plt.show();"
   ]
  },
  {
   "cell_type": "code",
   "execution_count": 85,
   "metadata": {},
   "outputs": [
    {
     "data": {
      "image/png": "[encoded data removed]",
      "text/plain": [
       "<Figure size 1440x576 with 1 Axes>"
      ]
     },
     "metadata": {},
     "output_type": "display_data"
    }
   ],
   "source": [
    "# Plot most frequent words\n",
    "sample = adult_word_counts_sorted[:15]\n",
    "labels, values = zip(*sample)\n",
    "plt.figure(figsize=(20,8))\n",
    "plt.bar(labels, values, align='center', color = 'red')\n",
    "plt.show();"
   ]
  },
  {
   "cell_type": "markdown",
   "metadata": {},
   "source": [
    "## Sentiment Analysis"
   ]
  },
  {
   "cell_type": "code",
   "execution_count": 86,
   "metadata": {},
   "outputs": [],
   "source": [
    "# Get sentiment score for dialogue\n",
    "from vaderSentiment.vaderSentiment import SentimentIntensityAnalyzer\n",
    "analyser = SentimentIntensityAnalyzer()"
   ]
  },
  {
   "cell_type": "code",
   "execution_count": 87,
   "metadata": {},
   "outputs": [],
   "source": [
    "# Create function to bin sentiments scores into positive, negative, or neutral\n",
    "def label_pos_neg_neutral(score):\n",
    "    if score < 0:\n",
    "        return 'neg'\n",
    "    elif score > 0:\n",
    "        return 'pos'\n",
    "    else: \n",
    "        return 'neut'"
   ]
  },
  {
   "cell_type": "code",
   "execution_count": 88,
   "metadata": {},
   "outputs": [],
   "source": [
    "# Apply score classification function to selected genre dataframes\n",
    "horror['sentiment'] = horror['line_text'].apply(lambda x: analyser.polarity_scores(x)['compound']) # get sentiment\n",
    "horror['sentiment_class'] = horror['sentiment'].apply(label_pos_neg_neutral) # classify sentiment\n",
    "\n",
    "adult['sentiment'] = adult['line_text'].apply(lambda x: analyser.polarity_scores(x)['compound']) # get sentiment\n",
    "adult['sentiment_class'] = adult['sentiment'].apply(label_pos_neg_neutral) # classify sentiment\n",
    "\n",
    "war = data.loc[data.war == 1]\n",
    "war['sentiment'] = war['line_text'].apply(lambda x: analyser.polarity_scores(x)['compound']) # get sentiment\n",
    "war['sentiment_class'] = war['sentiment'].apply(label_pos_neg_neutral) # classify sentiment\n",
    "\n",
    "comedy = data.loc[data.comedy == 1]\n",
    "comedy['sentiment'] = comedy['line_text'].apply(lambda x: analyser.polarity_scores(x)['compound']) # get sentiment\n",
    "comedy['sentiment_class'] = comedy['sentiment'].apply(label_pos_neg_neutral) # classify sentiment"
   ]
  },
  {
   "cell_type": "code",
   "execution_count": 89,
   "metadata": {},
   "outputs": [],
   "source": [
    "# Calculate the count of each sentiment classification for each genre\n",
    "horror_pos = horror.loc[horror.sentiment_class == 'pos'].shape[0]\n",
    "horror_neg = horror.loc[horror.sentiment_class == 'neg'].shape[0]\n",
    "horror_neut = horror.loc[horror.sentiment_class == 'neut'].shape[0]\n",
    "\n",
    "adult_pos = adult.loc[adult.sentiment_class == 'pos'].shape[0]\n",
    "adult_neg = adult.loc[adult.sentiment_class == 'neg'].shape[0]\n",
    "adult_neut = adult.loc[adult.sentiment_class == 'neut'].shape[0]\n",
    "\n",
    "war_pos = war.loc[war.sentiment_class == 'pos'].shape[0]\n",
    "war_neg = war.loc[war.sentiment_class == 'neg'].shape[0]\n",
    "war_neut = war.loc[war.sentiment_class == 'neut'].shape[0]\n",
    "\n",
    "comedy_pos = comedy.loc[comedy.sentiment_class == 'pos'].shape[0]\n",
    "comedy_neg = comedy.loc[comedy.sentiment_class == 'neg'].shape[0]\n",
    "comedy_neut = comedy.loc[comedy.sentiment_class == 'neut'].shape[0]"
   ]
  },
  {
   "cell_type": "code",
   "execution_count": 90,
   "metadata": {},
   "outputs": [],
   "source": [
    "# Create dataframes of class counts\n",
    "horror_class = pd.DataFrame([['negative', 'neutral', 'positive'], [horror_neg, horror_neut, horror_pos]]).transpose()\n",
    "horror_class.columns = ['sentiment', 'count']\n",
    "\n",
    "adult_class = pd.DataFrame([['negative', 'neutral', 'positive'], [adult_neg, adult_neut, adult_pos]]).transpose()\n",
    "adult_class.columns = ['sentiment', 'count']\n",
    "\n",
    "war_class = pd.DataFrame([['negative', 'neutral', 'positive'], [war_neg, war_neut, war_pos]]).transpose()\n",
    "war_class.columns = ['sentiment', 'count']\n",
    "\n",
    "comedy_class = pd.DataFrame([['negative', 'neutral', 'positive'], [comedy_neg, comedy_neut, comedy_pos]]).transpose()\n",
    "comedy_class.columns = ['sentiment', 'count']"
   ]
  },
  {
   "cell_type": "code",
   "execution_count": 91,
   "metadata": {},
   "outputs": [
    {
     "data": {
      "image/png": "[encoded data removed]",
      "text/plain": [
       "<Figure size 432x288 with 1 Axes>"
      ]
     },
     "metadata": {},
     "output_type": "display_data"
    }
   ],
   "source": [
    "plt.bar(horror_class['sentiment'], horror_class['count'], color = 'black')\n",
    "plt.show()"
   ]
  },
  {
   "cell_type": "code",
   "execution_count": 92,
   "metadata": {},
   "outputs": [
    {
     "data": {
      "image/png": "[encoded data removed]",
      "text/plain": [
       "<Figure size 432x288 with 1 Axes>"
      ]
     },
     "metadata": {},
     "output_type": "display_data"
    }
   ],
   "source": [
    "plt.bar(adult_class['sentiment'], adult_class['count'], color = 'red')\n",
    "plt.show()"
   ]
  },
  {
   "cell_type": "code",
   "execution_count": 93,
   "metadata": {},
   "outputs": [
    {
     "data": {
      "image/png": "[encoded data removed]",
      "text/plain": [
       "<Figure size 432x288 with 1 Axes>"
      ]
     },
     "metadata": {},
     "output_type": "display_data"
    }
   ],
   "source": [
    "plt.bar(war_class['sentiment'], war_class['count'], color = 'blue')\n",
    "plt.show()"
   ]
  },
  {
   "cell_type": "code",
   "execution_count": 94,
   "metadata": {},
   "outputs": [
    {
     "data": {
      "image/png": "[encoded data removed]",
      "text/plain": [
       "<Figure size 432x288 with 1 Axes>"
      ]
     },
     "metadata": {},
     "output_type": "display_data"
    }
   ],
   "source": [
    "plt.bar(comedy_class['sentiment'], comedy_class['count'], color = 'orange')\n",
    "plt.show()"
   ]
  },
  {
   "cell_type": "markdown",
   "metadata": {},
   "source": [
    "## Modeling -- Predicting genres using dialogue text"
   ]
  },
  {
   "cell_type": "code",
   "execution_count": 96,
   "metadata": {},
   "outputs": [
    {
     "data": {
      "text/plain": [
       "[(172557, 'drama'),\n",
       " (122256, 'thriller'),\n",
       " (93248, 'comedy'),\n",
       " (77518, 'romance'),\n",
       " (74859, 'crime'),\n",
       " (66128, 'action'),\n",
       " (50378, 'mystery'),\n",
       " (44535, 'sci-fi'),\n",
       " (43216, 'adventure'),\n",
       " (36879, 'horror')]"
      ]
     },
     "execution_count": 96,
     "metadata": {},
     "output_type": "execute_result"
    }
   ],
   "source": [
    "# Want to only look at top 10 genres\n",
    "counts = []\n",
    "genres = ['action', 'adult', 'adventure', 'animation', 'biography', 'comedy',\n",
    "       'crime', 'documentary', 'drama', 'family', 'fantasy', 'film-noir',\n",
    "       'history', 'horror', 'music', 'musical', 'mystery', 'romance', 'sci-fi',\n",
    "       'short', 'sport', 'thriller', 'war', 'western']\n",
    "for genre in genres:\n",
    "    counts.append((sum(data[genre]), genre))\n",
    "sorted(counts, reverse = True)[0:10]"
   ]
  },
  {
   "cell_type": "code",
   "execution_count": 105,
   "metadata": {},
   "outputs": [],
   "source": [
    "# Creat CountVectorizer and Tfidf Transformer to be used for text feature engineering\n",
    "from sklearn.feature_extraction.text import CountVectorizer\n",
    "count_vect = CountVectorizer()\n",
    "\n",
    "from sklearn.feature_extraction.text import TfidfTransformer\n",
    "tfidf_transformer = TfidfTransformer()"
   ]
  },
  {
   "cell_type": "markdown",
   "metadata": {},
   "source": [
    "### Adventure"
   ]
  },
  {
   "cell_type": "code",
   "execution_count": 106,
   "metadata": {},
   "outputs": [],
   "source": [
    "# Create training data for text classification model\n",
    "from sklearn.model_selection import train_test_split\n",
    "X = data['line_text']\n",
    "y = data['adventure']\n",
    "X_train, X_test, y_train, y_test = train_test_split(X, y, test_size=0.20)"
   ]
  },
  {
   "cell_type": "code",
   "execution_count": 107,
   "metadata": {},
   "outputs": [],
   "source": [
    "from sklearn.pipeline import Pipeline\n",
    "text_clf = Pipeline([('vect', CountVectorizer()),\n",
    "                      ('tfidf', TfidfTransformer()),\n",
    "                     ('clf', MultinomialNB()) ])\n",
    "text_clf = text_clf.fit(X_train, y_train)"
   ]
  },
  {
   "cell_type": "code",
   "execution_count": 108,
   "metadata": {},
   "outputs": [
    {
     "data": {
      "text/plain": [
       "0.8668756050735934"
      ]
     },
     "execution_count": 108,
     "metadata": {},
     "output_type": "execute_result"
    }
   ],
   "source": [
    "predicted = text_clf.predict(X_test)\n",
    "np.mean(predicted == y_test)"
   ]
  },
  {
   "cell_type": "markdown",
   "metadata": {},
   "source": [
    "### Comedy"
   ]
  },
  {
   "cell_type": "code",
   "execution_count": 109,
   "metadata": {},
   "outputs": [],
   "source": [
    "# Create training data for text classification model\n",
    "from sklearn.model_selection import train_test_split\n",
    "X = data['line_text']\n",
    "y = data['comedy']\n",
    "X_train, X_test, y_train, y_test = train_test_split(X, y, test_size=0.20)"
   ]
  },
  {
   "cell_type": "code",
   "execution_count": 110,
   "metadata": {},
   "outputs": [],
   "source": [
    "from sklearn.pipeline import Pipeline\n",
    "text_clf = Pipeline([('vect', CountVectorizer()),\n",
    "                      ('tfidf', TfidfTransformer()),\n",
    "                     ('clf', MultinomialNB()) ])\n",
    "text_clf = text_clf.fit(X_train, y_train)"
   ]
  },
  {
   "cell_type": "code",
   "execution_count": 111,
   "metadata": {},
   "outputs": [
    {
     "data": {
      "text/plain": [
       "0.72111645307910666"
      ]
     },
     "execution_count": 111,
     "metadata": {},
     "output_type": "execute_result"
    }
   ],
   "source": [
    "predicted = text_clf.predict(X_test)\n",
    "np.mean(predicted == y_test)"
   ]
  },
  {
   "cell_type": "markdown",
   "metadata": {},
   "source": [
    "### Crime"
   ]
  },
  {
   "cell_type": "code",
   "execution_count": 112,
   "metadata": {},
   "outputs": [],
   "source": [
    "# Create training data for text classification model\n",
    "from sklearn.model_selection import train_test_split\n",
    "X = data['line_text']\n",
    "y = data['crime']\n",
    "X_train, X_test, y_train, y_test = train_test_split(X, y, test_size=0.20)"
   ]
  },
  {
   "cell_type": "code",
   "execution_count": 113,
   "metadata": {},
   "outputs": [],
   "source": [
    "from sklearn.pipeline import Pipeline\n",
    "text_clf = Pipeline([('vect', CountVectorizer()),\n",
    "                      ('tfidf', TfidfTransformer()),\n",
    "                     ('clf', MultinomialNB()) ])\n",
    "text_clf = text_clf.fit(X_train, y_train)"
   ]
  },
  {
   "cell_type": "code",
   "execution_count": 114,
   "metadata": {},
   "outputs": [
    {
     "data": {
      "text/plain": [
       "0.77034277931837947"
      ]
     },
     "execution_count": 114,
     "metadata": {},
     "output_type": "execute_result"
    }
   ],
   "source": [
    "predicted = text_clf.predict(X_test)\n",
    "np.mean(predicted == y_test)"
   ]
  },
  {
   "cell_type": "markdown",
   "metadata": {},
   "source": [
    "### Drama"
   ]
  },
  {
   "cell_type": "code",
   "execution_count": 115,
   "metadata": {},
   "outputs": [],
   "source": [
    "# Create training data for text classification model\n",
    "from sklearn.model_selection import train_test_split\n",
    "X = data['line_text']\n",
    "y = data['drama']\n",
    "X_train, X_test, y_train, y_test = train_test_split(X, y, test_size=0.20)"
   ]
  },
  {
   "cell_type": "code",
   "execution_count": 116,
   "metadata": {},
   "outputs": [],
   "source": [
    "from sklearn.pipeline import Pipeline\n",
    "text_clf = Pipeline([('vect', CountVectorizer()),\n",
    "                      ('tfidf', TfidfTransformer()),\n",
    "                     ('clf', MultinomialNB()) ])\n",
    "text_clf = text_clf.fit(X_train, y_train)"
   ]
  },
  {
   "cell_type": "code",
   "execution_count": 117,
   "metadata": {},
   "outputs": [
    {
     "data": {
      "text/plain": [
       "0.6429942733373808"
      ]
     },
     "execution_count": 117,
     "metadata": {},
     "output_type": "execute_result"
    }
   ],
   "source": [
    "predicted = text_clf.predict(X_test)\n",
    "np.mean(predicted == y_test)"
   ]
  },
  {
   "cell_type": "markdown",
   "metadata": {},
   "source": [
    "### Horror"
   ]
  },
  {
   "cell_type": "code",
   "execution_count": 118,
   "metadata": {},
   "outputs": [],
   "source": [
    "# Create training data for text classification model\n",
    "from sklearn.model_selection import train_test_split\n",
    "X = data['line_text']\n",
    "y = data['horror']\n",
    "X_train, X_test, y_train, y_test = train_test_split(X, y, test_size=0.20)"
   ]
  },
  {
   "cell_type": "code",
   "execution_count": 119,
   "metadata": {},
   "outputs": [],
   "source": [
    "from sklearn.pipeline import Pipeline\n",
    "text_clf = Pipeline([('vect', CountVectorizer()),\n",
    "                      ('tfidf', TfidfTransformer()),\n",
    "                     ('clf', MultinomialNB()) ])\n",
    "text_clf = text_clf.fit(X_train, y_train)"
   ]
  },
  {
   "cell_type": "code",
   "execution_count": 120,
   "metadata": {},
   "outputs": [
    {
     "data": {
      "text/plain": [
       "0.8824803504914428"
      ]
     },
     "execution_count": 120,
     "metadata": {},
     "output_type": "execute_result"
    }
   ],
   "source": [
    "predicted = text_clf.predict(X_test)\n",
    "np.mean(predicted == y_test)"
   ]
  },
  {
   "cell_type": "markdown",
   "metadata": {},
   "source": [
    "### Mystery"
   ]
  },
  {
   "cell_type": "code",
   "execution_count": 121,
   "metadata": {},
   "outputs": [],
   "source": [
    "# Create training data for text classification model\n",
    "from sklearn.model_selection import train_test_split\n",
    "X = data['line_text']\n",
    "y = data['mystery']\n",
    "X_train, X_test, y_train, y_test = train_test_split(X, y, test_size=0.20)"
   ]
  },
  {
   "cell_type": "code",
   "execution_count": 122,
   "metadata": {},
   "outputs": [],
   "source": [
    "from sklearn.pipeline import Pipeline\n",
    "text_clf = Pipeline([('vect', CountVectorizer()),\n",
    "                      ('tfidf', TfidfTransformer()),\n",
    "                     ('clf', MultinomialNB()) ])\n",
    "text_clf = text_clf.fit(X_train, y_train)"
   ]
  },
  {
   "cell_type": "code",
   "execution_count": 123,
   "metadata": {},
   "outputs": [
    {
     "data": {
      "text/plain": [
       "0.84142559440788933"
      ]
     },
     "execution_count": 123,
     "metadata": {},
     "output_type": "execute_result"
    }
   ],
   "source": [
    "predicted = text_clf.predict(X_test)\n",
    "np.mean(predicted == y_test)"
   ]
  },
  {
   "cell_type": "markdown",
   "metadata": {},
   "source": [
    "### Romance"
   ]
  },
  {
   "cell_type": "code",
   "execution_count": 124,
   "metadata": {},
   "outputs": [],
   "source": [
    "# Create training data for text classification model\n",
    "from sklearn.model_selection import train_test_split\n",
    "X = data['line_text']\n",
    "y = data['romance']\n",
    "X_train, X_test, y_train, y_test = train_test_split(X, y, test_size=0.20)"
   ]
  },
  {
   "cell_type": "code",
   "execution_count": 125,
   "metadata": {},
   "outputs": [],
   "source": [
    "from sklearn.pipeline import Pipeline\n",
    "text_clf = Pipeline([('vect', CountVectorizer()),\n",
    "                      ('tfidf', TfidfTransformer()),\n",
    "                     ('clf', MultinomialNB()) ])\n",
    "text_clf = text_clf.fit(X_train, y_train)"
   ]
  },
  {
   "cell_type": "code",
   "execution_count": 126,
   "metadata": {},
   "outputs": [
    {
     "data": {
      "text/plain": [
       "0.76395976568268709"
      ]
     },
     "execution_count": 126,
     "metadata": {},
     "output_type": "execute_result"
    }
   ],
   "source": [
    "predicted = text_clf.predict(X_test)\n",
    "np.mean(predicted == y_test)"
   ]
  },
  {
   "cell_type": "markdown",
   "metadata": {},
   "source": [
    "### Sci-fi"
   ]
  },
  {
   "cell_type": "code",
   "execution_count": 127,
   "metadata": {},
   "outputs": [],
   "source": [
    "# Create training data for text classification model\n",
    "from sklearn.model_selection import train_test_split\n",
    "X = data['line_text']\n",
    "y = data['sci-fi']\n",
    "X_train, X_test, y_train, y_test = train_test_split(X, y, test_size=0.20)"
   ]
  },
  {
   "cell_type": "code",
   "execution_count": 128,
   "metadata": {},
   "outputs": [],
   "source": [
    "from sklearn.pipeline import Pipeline\n",
    "text_clf = Pipeline([('vect', CountVectorizer()),\n",
    "                      ('tfidf', TfidfTransformer()),\n",
    "                     ('clf', MultinomialNB()) ])\n",
    "text_clf = text_clf.fit(X_train, y_train)"
   ]
  },
  {
   "cell_type": "code",
   "execution_count": 129,
   "metadata": {},
   "outputs": [
    {
     "data": {
      "text/plain": [
       "0.86617002773083041"
      ]
     },
     "execution_count": 129,
     "metadata": {},
     "output_type": "execute_result"
    }
   ],
   "source": [
    "predicted = text_clf.predict(X_test)\n",
    "np.mean(predicted == y_test)"
   ]
  },
  {
   "cell_type": "markdown",
   "metadata": {},
   "source": [
    "### Thriller"
   ]
  },
  {
   "cell_type": "code",
   "execution_count": 130,
   "metadata": {},
   "outputs": [],
   "source": [
    "# Create training data for text classification model\n",
    "from sklearn.model_selection import train_test_split\n",
    "X = data['line_text']\n",
    "y = data['thriller']\n",
    "X_train, X_test, y_train, y_test = train_test_split(X, y, test_size=0.20)"
   ]
  },
  {
   "cell_type": "code",
   "execution_count": 131,
   "metadata": {},
   "outputs": [],
   "source": [
    "from sklearn.pipeline import Pipeline\n",
    "text_clf = Pipeline([('vect', CountVectorizer()),\n",
    "                      ('tfidf', TfidfTransformer()),\n",
    "                     ('clf', MultinomialNB()) ])\n",
    "text_clf = text_clf.fit(X_train, y_train)"
   ]
  },
  {
   "cell_type": "code",
   "execution_count": 132,
   "metadata": {},
   "outputs": [
    {
     "data": {
      "text/plain": [
       "0.65379124755919471"
      ]
     },
     "execution_count": 132,
     "metadata": {},
     "output_type": "execute_result"
    }
   ],
   "source": [
    "predicted = text_clf.predict(X_test)\n",
    "np.mean(predicted == y_test)"
   ]
  },
  {
   "cell_type": "code",
   "execution_count": null,
   "metadata": {},
   "outputs": [],
   "source": []
  },
  {
   "cell_type": "code",
   "execution_count": null,
   "metadata": {},
   "outputs": [],
   "source": []
  }
 ],
 "metadata": {
  "kernelspec": {
   "display_name": "Python 3",
   "language": "python",
   "name": "python3"
  },
  "language_info": {
   "codemirror_mode": {
    "name": "ipython",
    "version": 3
   },
   "file_extension": ".py",
   "mimetype": "text/x-python",
   "name": "python",
   "nbconvert_exporter": "python",
   "pygments_lexer": "ipython3",
   "version": "3.5.1"
  }
 },
 "nbformat": 4,
 "nbformat_minor": 2
}
